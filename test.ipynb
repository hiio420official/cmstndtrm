{
 "cells": [
  {
   "cell_type": "code",
   "execution_count": 1,
   "id": "initial_id",
   "metadata": {
    "collapsed": true,
    "ExecuteTime": {
     "end_time": "2024-03-14T06:36:07.280567Z",
     "start_time": "2024-03-14T06:36:00.938909400Z"
    }
   },
   "outputs": [],
   "source": [
    "import pandas as pd\n",
    "\n",
    "xlsx = pd.ExcelFile(\"F:\\\\[01]project\\\\commonStandardTerm\\\\upload\\\\(붙임)공공데이터 공통표준용어(2022.7월).xlsx\")\n",
    "\n",
    "# 각 시트 별 DataFrame 생성\n",
    "df_cmStdTrm = pd.read_excel(\"F:\\\\[01]project\\\\commonStandardTerm\\\\upload\\\\(붙임)공공데이터 공통표준용어(2022.7월).xlsx\",\n",
    "                            sheet_name=xlsx.sheet_names[0]).fillna(\"\")\n",
    "df_cmStdWd = pd.read_excel(\"F:\\\\[01]project\\\\commonStandardTerm\\\\upload\\\\(붙임)공공데이터 공통표준용어(2022.7월).xlsx\",\n",
    "                           sheet_name=xlsx.sheet_names[1]).fillna(\"\")\n",
    "df_cmStdDmn = pd.read_excel(\"F:\\\\[01]project\\\\commonStandardTerm\\\\upload\\\\(붙임)공공데이터 공통표준용어(2022.7월).xlsx\",\n",
    "                            sheet_name=xlsx.sheet_names[2]).fillna(\"\")\n",
    "df_cmStdTmplt = pd.read_excel(\"F:\\\\[01]project\\\\commonStandardTerm\\\\upload\\\\(붙임)공공데이터 공통표준용어(2022.7월).xlsx\",\n",
    "                              sheet_name=xlsx.sheet_names[3]).fillna(\"\")"
   ]
  },
  {
   "cell_type": "code",
   "outputs": [],
   "source": [
    "df_dict = {\n",
    "    0: df_cmStdTrm,\n",
    "    1: df_cmStdWd,\n",
    "    2: df_cmStdDmn,\n",
    "    3: df_cmStdTmplt\n",
    "}"
   ],
   "metadata": {
    "collapsed": false,
    "ExecuteTime": {
     "end_time": "2024-03-14T06:36:07.291303400Z",
     "start_time": "2024-03-14T06:36:07.268850700Z"
    }
   },
   "id": "4c73926d0052f4c4",
   "execution_count": 2
  },
  {
   "cell_type": "code",
   "outputs": [],
   "source": [
    "df_sliced = df_dict[0][20320:20329 + 1]"
   ],
   "metadata": {
    "collapsed": false,
    "ExecuteTime": {
     "end_time": "2024-03-14T06:36:30.808436400Z",
     "start_time": "2024-03-14T06:36:30.601418Z"
    }
   },
   "id": "397801e0e714d6de",
   "execution_count": 4
  },
  {
   "cell_type": "code",
   "outputs": [
    {
     "data": {
      "text/plain": "Empty DataFrame\nColumns: [번호, 제정차수, 공통표준용어명, 공통표준용어설명, 공통표준용어영문약어명, 공통표준도메인명, 허용값, 저장 형식, 표현 형식, 행정표준코드명, 소관기관명, 용어 이음동의어 목록]\nIndex: []",
      "text/html": "<div>\n<style scoped>\n    .dataframe tbody tr th:only-of-type {\n        vertical-align: middle;\n    }\n\n    .dataframe tbody tr th {\n        vertical-align: top;\n    }\n\n    .dataframe thead th {\n        text-align: right;\n    }\n</style>\n<table border=\"1\" class=\"dataframe\">\n  <thead>\n    <tr style=\"text-align: right;\">\n      <th></th>\n      <th>번호</th>\n      <th>제정차수</th>\n      <th>공통표준용어명</th>\n      <th>공통표준용어설명</th>\n      <th>공통표준용어영문약어명</th>\n      <th>공통표준도메인명</th>\n      <th>허용값</th>\n      <th>저장 형식</th>\n      <th>표현 형식</th>\n      <th>행정표준코드명</th>\n      <th>소관기관명</th>\n      <th>용어 이음동의어 목록</th>\n    </tr>\n  </thead>\n  <tbody>\n  </tbody>\n</table>\n</div>"
     },
     "execution_count": 5,
     "metadata": {},
     "output_type": "execute_result"
    }
   ],
   "source": [
    "df_sliced"
   ],
   "metadata": {
    "collapsed": false,
    "ExecuteTime": {
     "end_time": "2024-03-14T06:36:32.728722400Z",
     "start_time": "2024-03-14T06:36:32.390851300Z"
    }
   },
   "id": "167ef14923c85a78",
   "execution_count": 5
  },
  {
   "cell_type": "code",
   "outputs": [
    {
     "data": {
      "text/plain": "      번호    제정차수   공통표준용어명                                           공통표준용어설명  \\\n0      1      5차  1회섭취참고량명  만 3세 이상 소비계층이 통상적으로 소비하는 식품별 1회 섭취량과 시장조사 결과 등...   \n1      2      4차   GIS자료여부            지도에 관한 속성 정보를 해석하는 지도 정보 시스템의 데이터 인지 여부   \n2      3      1차  HTML사용여부                        하이퍼링크를 사용하는 컴퓨터 언어를 사용할지 여부   \n3      4      5차    HTML여부                            하이퍼링크를 사용하는 컴퓨터 언어인지 여부   \n4      5      2차      IP주소  OSI 모델의 제3계층(네트워크층)에 해당되는 프로토콜로 IP계층에 따라 다른 네트...   \n...   ..     ...       ...                                                ...   \n1690  폐기  4차(폐기)    보도부제목명  대중 매체로 새로운 소식을 알린 것을 대표하거나 내용을 보이기 위하여 제목에 덧붙어...   \n1691  폐기  4차(폐기)     보도제목명      대중 매체로 새로운 소식을 알린 것을 대표하거나 내용을 보이기 위하여 붙이는 이름   \n1692  폐기  2차(폐기)      사업자명                                    사업을 경영하는 사람의 이름   \n1693  폐기  2차(폐기)        상호                 상인이 영업 활동을 할 때에 자기를 표시하기 위하여 쓰는 이름   \n1694  폐기  4차(폐기)     설문제목명  조사를 하거나 통계 자료 등을 얻기 위하여 어떤 주제에 대하여 문제를 내어 물은 것...   \n\n          공통표준용어영문약어명 공통표준도메인명                    허용값        저장 형식  \\\n0            RAFOS_NM    명V100                      -  100자리 이내 문자   \n1         GIS_DATA_YN     여부C1  Y : 여(예),\\nN : 부(아니요)       1자리 문자   \n2         HTML_USE_YN     여부C1  Y : 여(예),\\nN : 부(아니요)       1자리 문자   \n3             HTML_YN     여부C1  Y : 여(예),\\nN : 부(아니요)       1자리 문자   \n4             IP_ADDR    주소V15                      -   15자리 이내 문자   \n...               ...      ...                    ...          ...   \n1690  NSCVRG_SBTTL_NM    명V256                      -  256자리 이내 문자   \n1691    NSCVRG_TTL_NM    명V256                      -  256자리 이내 문자   \n1692          BZMN_NM    명V100                      -  100자리 이내 문자   \n1693             CONM    명V100                      -  100자리 이내 문자   \n1694      SRVY_TTL_NM    명V256                      -  256자리 이내 문자   \n\n                표현 형식 행정표준코드명 소관기관명           용어 이음동의어 목록  \n0                   -       -     -  1회섭취참고량이름, 1회섭취참고량명칭  \n1              Y or N       -     -              GIS데이터여부  \n2              Y or N       -     -                     -  \n3              Y or N       -     -                     -  \n4     999.999.999.999       -     -                 아이피주소  \n...               ...     ...   ...                   ...  \n1690                -       -     -                     -  \n1691                -       -     -                     -  \n1692                -       -     -                     -  \n1693                -       -     -                     -  \n1694                -       -     -                     -  \n\n[1695 rows x 12 columns]",
      "text/html": "<div>\n<style scoped>\n    .dataframe tbody tr th:only-of-type {\n        vertical-align: middle;\n    }\n\n    .dataframe tbody tr th {\n        vertical-align: top;\n    }\n\n    .dataframe thead th {\n        text-align: right;\n    }\n</style>\n<table border=\"1\" class=\"dataframe\">\n  <thead>\n    <tr style=\"text-align: right;\">\n      <th></th>\n      <th>번호</th>\n      <th>제정차수</th>\n      <th>공통표준용어명</th>\n      <th>공통표준용어설명</th>\n      <th>공통표준용어영문약어명</th>\n      <th>공통표준도메인명</th>\n      <th>허용값</th>\n      <th>저장 형식</th>\n      <th>표현 형식</th>\n      <th>행정표준코드명</th>\n      <th>소관기관명</th>\n      <th>용어 이음동의어 목록</th>\n    </tr>\n  </thead>\n  <tbody>\n    <tr>\n      <th>0</th>\n      <td>1</td>\n      <td>5차</td>\n      <td>1회섭취참고량명</td>\n      <td>만 3세 이상 소비계층이 통상적으로 소비하는 식품별 1회 섭취량과 시장조사 결과 등...</td>\n      <td>RAFOS_NM</td>\n      <td>명V100</td>\n      <td>-</td>\n      <td>100자리 이내 문자</td>\n      <td>-</td>\n      <td>-</td>\n      <td>-</td>\n      <td>1회섭취참고량이름, 1회섭취참고량명칭</td>\n    </tr>\n    <tr>\n      <th>1</th>\n      <td>2</td>\n      <td>4차</td>\n      <td>GIS자료여부</td>\n      <td>지도에 관한 속성 정보를 해석하는 지도 정보 시스템의 데이터 인지 여부</td>\n      <td>GIS_DATA_YN</td>\n      <td>여부C1</td>\n      <td>Y : 여(예),\\nN : 부(아니요)</td>\n      <td>1자리 문자</td>\n      <td>Y or N</td>\n      <td>-</td>\n      <td>-</td>\n      <td>GIS데이터여부</td>\n    </tr>\n    <tr>\n      <th>2</th>\n      <td>3</td>\n      <td>1차</td>\n      <td>HTML사용여부</td>\n      <td>하이퍼링크를 사용하는 컴퓨터 언어를 사용할지 여부</td>\n      <td>HTML_USE_YN</td>\n      <td>여부C1</td>\n      <td>Y : 여(예),\\nN : 부(아니요)</td>\n      <td>1자리 문자</td>\n      <td>Y or N</td>\n      <td>-</td>\n      <td>-</td>\n      <td>-</td>\n    </tr>\n    <tr>\n      <th>3</th>\n      <td>4</td>\n      <td>5차</td>\n      <td>HTML여부</td>\n      <td>하이퍼링크를 사용하는 컴퓨터 언어인지 여부</td>\n      <td>HTML_YN</td>\n      <td>여부C1</td>\n      <td>Y : 여(예),\\nN : 부(아니요)</td>\n      <td>1자리 문자</td>\n      <td>Y or N</td>\n      <td>-</td>\n      <td>-</td>\n      <td>-</td>\n    </tr>\n    <tr>\n      <th>4</th>\n      <td>5</td>\n      <td>2차</td>\n      <td>IP주소</td>\n      <td>OSI 모델의 제3계층(네트워크층)에 해당되는 프로토콜로 IP계층에 따라 다른 네트...</td>\n      <td>IP_ADDR</td>\n      <td>주소V15</td>\n      <td>-</td>\n      <td>15자리 이내 문자</td>\n      <td>999.999.999.999</td>\n      <td>-</td>\n      <td>-</td>\n      <td>아이피주소</td>\n    </tr>\n    <tr>\n      <th>...</th>\n      <td>...</td>\n      <td>...</td>\n      <td>...</td>\n      <td>...</td>\n      <td>...</td>\n      <td>...</td>\n      <td>...</td>\n      <td>...</td>\n      <td>...</td>\n      <td>...</td>\n      <td>...</td>\n      <td>...</td>\n    </tr>\n    <tr>\n      <th>1690</th>\n      <td>폐기</td>\n      <td>4차(폐기)</td>\n      <td>보도부제목명</td>\n      <td>대중 매체로 새로운 소식을 알린 것을 대표하거나 내용을 보이기 위하여 제목에 덧붙어...</td>\n      <td>NSCVRG_SBTTL_NM</td>\n      <td>명V256</td>\n      <td>-</td>\n      <td>256자리 이내 문자</td>\n      <td>-</td>\n      <td>-</td>\n      <td>-</td>\n      <td>-</td>\n    </tr>\n    <tr>\n      <th>1691</th>\n      <td>폐기</td>\n      <td>4차(폐기)</td>\n      <td>보도제목명</td>\n      <td>대중 매체로 새로운 소식을 알린 것을 대표하거나 내용을 보이기 위하여 붙이는 이름</td>\n      <td>NSCVRG_TTL_NM</td>\n      <td>명V256</td>\n      <td>-</td>\n      <td>256자리 이내 문자</td>\n      <td>-</td>\n      <td>-</td>\n      <td>-</td>\n      <td>-</td>\n    </tr>\n    <tr>\n      <th>1692</th>\n      <td>폐기</td>\n      <td>2차(폐기)</td>\n      <td>사업자명</td>\n      <td>사업을 경영하는 사람의 이름</td>\n      <td>BZMN_NM</td>\n      <td>명V100</td>\n      <td>-</td>\n      <td>100자리 이내 문자</td>\n      <td>-</td>\n      <td>-</td>\n      <td>-</td>\n      <td>-</td>\n    </tr>\n    <tr>\n      <th>1693</th>\n      <td>폐기</td>\n      <td>2차(폐기)</td>\n      <td>상호</td>\n      <td>상인이 영업 활동을 할 때에 자기를 표시하기 위하여 쓰는 이름</td>\n      <td>CONM</td>\n      <td>명V100</td>\n      <td>-</td>\n      <td>100자리 이내 문자</td>\n      <td>-</td>\n      <td>-</td>\n      <td>-</td>\n      <td>-</td>\n    </tr>\n    <tr>\n      <th>1694</th>\n      <td>폐기</td>\n      <td>4차(폐기)</td>\n      <td>설문제목명</td>\n      <td>조사를 하거나 통계 자료 등을 얻기 위하여 어떤 주제에 대하여 문제를 내어 물은 것...</td>\n      <td>SRVY_TTL_NM</td>\n      <td>명V256</td>\n      <td>-</td>\n      <td>256자리 이내 문자</td>\n      <td>-</td>\n      <td>-</td>\n      <td>-</td>\n      <td>-</td>\n    </tr>\n  </tbody>\n</table>\n<p>1695 rows × 12 columns</p>\n</div>"
     },
     "execution_count": 6,
     "metadata": {},
     "output_type": "execute_result"
    }
   ],
   "source": [
    "df_dict[0]"
   ],
   "metadata": {
    "collapsed": false,
    "ExecuteTime": {
     "end_time": "2024-03-14T06:36:43.503908100Z",
     "start_time": "2024-03-14T06:36:43.322281200Z"
    }
   },
   "id": "7e1d284088924be7",
   "execution_count": 6
  },
  {
   "cell_type": "code",
   "outputs": [
    {
     "data": {
      "text/plain": "20340"
     },
     "execution_count": 8,
     "metadata": {},
     "output_type": "execute_result"
    }
   ],
   "source": [
    "df_dict[0].size"
   ],
   "metadata": {
    "collapsed": false,
    "ExecuteTime": {
     "end_time": "2024-03-14T06:37:12.933667300Z",
     "start_time": "2024-03-14T06:37:12.653411800Z"
    }
   },
   "id": "97b7b4520c8d099",
   "execution_count": 8
  },
  {
   "cell_type": "code",
   "outputs": [
    {
     "data": {
      "text/plain": "'1.4.6'"
     },
     "execution_count": 13,
     "metadata": {},
     "output_type": "execute_result"
    }
   ],
   "source": [
    "import pymysql\n",
    "pymysql.__version__"
   ],
   "metadata": {
    "collapsed": false,
    "ExecuteTime": {
     "end_time": "2024-03-14T08:24:51.910711600Z",
     "start_time": "2024-03-14T08:24:51.890205500Z"
    }
   },
   "id": "89f272ef8c1cedee",
   "execution_count": 13
  },
  {
   "cell_type": "code",
   "outputs": [
    {
     "data": {
      "text/plain": "'1.4.6'"
     },
     "execution_count": 14,
     "metadata": {},
     "output_type": "execute_result"
    }
   ],
   "source": [
    "'1.4.6'"
   ],
   "metadata": {
    "collapsed": false,
    "ExecuteTime": {
     "end_time": "2024-03-14T08:24:52.851435100Z",
     "start_time": "2024-03-14T08:24:52.840694600Z"
    }
   },
   "id": "2baf84791502c8c8",
   "execution_count": 14
  },
  {
   "cell_type": "code",
   "outputs": [],
   "source": [
    "import os\n",
    "import pathlib\n",
    "import datetime"
   ],
   "metadata": {
    "collapsed": false,
    "ExecuteTime": {
     "end_time": "2024-03-15T05:33:33.649133100Z",
     "start_time": "2024-03-15T05:33:33.624720600Z"
    }
   },
   "id": "e9526c6abc6cec3",
   "execution_count": 10
  },
  {
   "cell_type": "code",
   "outputs": [],
   "source": [
    "\n",
    "path = \"F:\\\\[01]project\\\\commonStandardTerm\\\\upload\\\\(붙임)공공데이터 공통표준용어(2022.7월).xlsx\""
   ],
   "metadata": {
    "collapsed": false,
    "ExecuteTime": {
     "end_time": "2024-03-15T05:31:03.581517800Z",
     "start_time": "2024-03-15T05:31:03.561959600Z"
    }
   },
   "id": "1f5d55b40a9e6e53",
   "execution_count": 2
  },
  {
   "cell_type": "code",
   "outputs": [
    {
     "data": {
      "text/plain": "datetime.datetime(2024, 3, 13, 13, 2, 33, 761554)"
     },
     "execution_count": 15,
     "metadata": {},
     "output_type": "execute_result"
    }
   ],
   "source": [
    "os.path.getsize(path)\n",
    "os.path.getatime(path)\n",
    "datetime.datetime.fromtimestamp(os.path.getatime(path))\n",
    "datetime.datetime.fromtimestamp(os.path.getctime(path))\n",
    "datetime.datetime.fromtimestamp(os.path.getmtime(path))"
   ],
   "metadata": {
    "collapsed": false,
    "ExecuteTime": {
     "end_time": "2024-03-15T05:35:11.574680500Z",
     "start_time": "2024-03-15T05:35:11.561010700Z"
    }
   },
   "id": "b44f63e6350cca77",
   "execution_count": 15
  },
  {
   "cell_type": "code",
   "outputs": [
    {
     "data": {
      "text/plain": "'F:'"
     },
     "execution_count": 18,
     "metadata": {},
     "output_type": "execute_result"
    }
   ],
   "source": [
    "pathlib.Path(path).suffix\n",
    "pathlib.Path(path).stem\n"
   ],
   "metadata": {
    "collapsed": false,
    "ExecuteTime": {
     "end_time": "2024-03-15T05:35:39.742373800Z",
     "start_time": "2024-03-15T05:35:39.733510300Z"
    }
   },
   "id": "17e0a7480976587a",
   "execution_count": 18
  },
  {
   "cell_type": "code",
   "outputs": [
    {
     "data": {
      "text/plain": "'4.9.0'"
     },
     "execution_count": 19,
     "metadata": {},
     "output_type": "execute_result"
    }
   ],
   "source": [
    "import humanize\n",
    "humanize.__version__"
   ],
   "metadata": {
    "collapsed": false,
    "ExecuteTime": {
     "end_time": "2024-03-15T06:24:51.896453200Z",
     "start_time": "2024-03-15T06:24:51.845634200Z"
    }
   },
   "id": "7f18f10375fbfcdf",
   "execution_count": 19
  },
  {
   "cell_type": "code",
   "outputs": [
    {
     "data": {
      "text/plain": "{0:       번호    제정차수   공통표준용어명                                           공통표준용어설명  \\\n 0      1      5차  1회섭취참고량명  만 3세 이상 소비계층이 통상적으로 소비하는 식품별 1회 섭취량과 시장조사 결과 등...   \n 1      2      4차   GIS자료여부            지도에 관한 속성 정보를 해석하는 지도 정보 시스템의 데이터 인지 여부   \n 2      3      1차  HTML사용여부                        하이퍼링크를 사용하는 컴퓨터 언어를 사용할지 여부   \n 3      4      5차    HTML여부                            하이퍼링크를 사용하는 컴퓨터 언어인지 여부   \n 4      5      2차      IP주소  OSI 모델의 제3계층(네트워크층)에 해당되는 프로토콜로 IP계층에 따라 다른 네트...   \n ...   ..     ...       ...                                                ...   \n 1690  폐기  4차(폐기)    보도부제목명  대중 매체로 새로운 소식을 알린 것을 대표하거나 내용을 보이기 위하여 제목에 덧붙어...   \n 1691  폐기  4차(폐기)     보도제목명      대중 매체로 새로운 소식을 알린 것을 대표하거나 내용을 보이기 위하여 붙이는 이름   \n 1692  폐기  2차(폐기)      사업자명                                    사업을 경영하는 사람의 이름   \n 1693  폐기  2차(폐기)        상호                 상인이 영업 활동을 할 때에 자기를 표시하기 위하여 쓰는 이름   \n 1694  폐기  4차(폐기)     설문제목명  조사를 하거나 통계 자료 등을 얻기 위하여 어떤 주제에 대하여 문제를 내어 물은 것...   \n \n           공통표준용어영문약어명 공통표준도메인명                    허용값        저장 형식  \\\n 0            RAFOS_NM    명V100                      -  100자리 이내 문자   \n 1         GIS_DATA_YN     여부C1  Y : 여(예),\\nN : 부(아니요)       1자리 문자   \n 2         HTML_USE_YN     여부C1  Y : 여(예),\\nN : 부(아니요)       1자리 문자   \n 3             HTML_YN     여부C1  Y : 여(예),\\nN : 부(아니요)       1자리 문자   \n 4             IP_ADDR    주소V15                      -   15자리 이내 문자   \n ...               ...      ...                    ...          ...   \n 1690  NSCVRG_SBTTL_NM    명V256                      -  256자리 이내 문자   \n 1691    NSCVRG_TTL_NM    명V256                      -  256자리 이내 문자   \n 1692          BZMN_NM    명V100                      -  100자리 이내 문자   \n 1693             CONM    명V100                      -  100자리 이내 문자   \n 1694      SRVY_TTL_NM    명V256                      -  256자리 이내 문자   \n \n                 표현 형식 행정표준코드명 소관기관명           용어 이음동의어 목록  \n 0                   -       -     -  1회섭취참고량이름, 1회섭취참고량명칭  \n 1              Y or N       -     -              GIS데이터여부  \n 2              Y or N       -     -                     -  \n 3              Y or N       -     -                     -  \n 4     999.999.999.999       -     -                 아이피주소  \n ...               ...     ...   ...                   ...  \n 1690                -       -     -                     -  \n 1691                -       -     -                     -  \n 1692                -       -     -                     -  \n 1693                -       -     -                     -  \n 1694                -       -     -                     -  \n \n [1695 rows x 12 columns],\n 1:       번호 제정차수  공통표준단어명 공통표준단어영문약어명                        공통표준단어 영문명  \\\n 0      1   5차  1회섭취참고량       RAFOS  Reference Amount For One Serving   \n 1      2   4차      GIS         GIS     Geographic Information System   \n 2      3   1차     HTML        HTML         Hypertext Markup Language   \n 3      4   2차       IP          IP                 Internet Protocol   \n 4      5   2차      MAC         MAC             Medium Access Control   \n ..   ...  ...      ...         ...                               ...   \n 726  727   1차       회의         MTG                           Meeting   \n 727  728   5차       횟수        NMTM                   Number Of Times   \n 728  729   1차       휴대         MBL                            Mobile   \n 729  730   1차       휴업       TCBIZ       Temporary Close of Business   \n 730  731   1차       휴일        HLDY                           Holiday   \n \n                                              공통표준단어 설명 형식단어\\n여부 공통표준도메인분류명  \\\n 0    一回攝取參考量.  만 3세 이상 소비계층이 통상적으로 소비하는 식품별 1회 섭취량과...        N          -   \n 1    GIS. 지리정보시스템(Geographic Information System) 지도...        N          -   \n 2    HTML. 하이퍼링크를 사용하는 컴퓨터 언어. 홈페이지 제작에 주로 사용하는 언어로...        N          -   \n 3    IP. OSI 모델의 제3계층(네트워크층)에 해당되는 프로토콜로 IP계층에 따라 다...        N          -   \n 4    MAC. OSI 기본 참조 모델의 데이터 링크 계층의 일부로서, 동일한 매체를 여러...        N          -   \n ..                                                 ...      ...        ...   \n 726                              會議. 어떤 사항을 여럿이 모여 의논함        N          -   \n 727                                    回數. 돌아오는 차례의 수효        Y          수   \n 728                               携帶. 손에 들거나 몸에 지니고 다님        N          -   \n 729         休業. 사업이나 영업, 작업 따위를 일시적으로 중단하고 하루 또는 한동안 쉼        N          -   \n 730                  休日. 일요일이나 공휴일 따위의 일을 하지 아니하고 쉬는 날        N          -   \n \n     이음동의어 목록 금칙어 \\n목록  \n 0          -        -  \n 1          -        -  \n 2          -        -  \n 3        아이피        -  \n 4          -        -  \n ..       ...      ...  \n 726        -        -  \n 727        -        -  \n 728        -        -  \n 729        -        -  \n 730        -      쉬는날  \n \n [731 rows x 10 columns],\n 2:     번호 제정차수 공통표준도메인그룹명 공통표준도메인분류명 공통표준도메인명  \\\n 0    1   2차         금액         가격    가격N10   \n 1    2   4차         금액         금액    금액N13   \n 2    3   2차         금액         금액    금액N15   \n 3    4   4차         금액         금액    금액N17   \n 4    5   4차         금액         금액    금액N18   \n ..  ..  ...        ...        ...      ...   \n 86  87   2차         코드         코드     코드C3   \n 87  88   2차         코드         코드     코드C5   \n 88  89   2차         코드         코드     코드C7   \n 89  90   2차         코드         코드    코드C10   \n 90  91   2차         코드         코드    코드C12   \n \n                                공통표준도메인설명    데이터타입 데이터길이 데이터소수점길이  \\\n 0               물건이 지니고 있는 가치를 돈으로 나타낸 것  NUMERIC    10        -   \n 1                                  돈의 액수  NUMERIC    13        -   \n 2                                  돈의 액수  NUMERIC    15        -   \n 3                                  돈의 액수  NUMERIC    17        -   \n 4                                  돈의 액수  NUMERIC    18        -   \n ..                                   ...      ...   ...      ...   \n 86  정보를 나타내기 위한 기호 체계로 고정된 데이터 길이로 표현한 것     CHAR     3        -   \n 87  정보를 나타내기 위한 기호 체계로 고정된 데이터 길이로 표현한 것     CHAR     5        -   \n 88  정보를 나타내기 위한 기호 체계로 고정된 데이터 길이로 표현한 것     CHAR     7        -   \n 89  정보를 나타내기 위한 기호 체계로 고정된 데이터 길이로 표현한 것     CHAR    10        -   \n 90  정보를 나타내기 위한 기호 체계로 고정된 데이터 길이로 표현한 것     CHAR    12        -   \n \n                 저장\\n형식                   표현\\n형식 단위 허용값  \n 0           9999999999            9,999,999,999  원   -  \n 1        9999999999999        9,999,999.999,999  원   -  \n 2      999999999999999      999,999,999,999,999  원   -  \n 3    99999999999999999   99,999,999,999,999,999  원   -  \n 4   999999999999999999  999,999,999,999,999,999  원   -  \n ..                 ...                      ... ..  ..  \n 86              3자리 문자                        -  -   -  \n 87              5자리 문자                        -  -   -  \n 88              7자리 문자                        -  -   -  \n 89             10자리 문자                        -  -   -  \n 90             12자리 문자                        -  -   -  \n \n [91 rows x 13 columns]}"
     },
     "execution_count": 21,
     "metadata": {},
     "output_type": "execute_result"
    }
   ],
   "source": [
    "import math\n",
    "\n",
    "from fastapi import FastAPI\n",
    "\n",
    "from libs import ExcelUtils\n",
    "excelUtils = ExcelUtils()\n",
    "excelUtils.read_excel('F:\\\\[01]project\\\\commonStandardTerm\\\\upload\\\\(붙임)공공데이터 공통표준용어(2022.7월).xlsx')"
   ],
   "metadata": {
    "collapsed": false,
    "ExecuteTime": {
     "end_time": "2024-03-15T07:26:27.701816Z",
     "start_time": "2024-03-15T07:26:24.387854100Z"
    }
   },
   "id": "3d22b07d7cc32ea1",
   "execution_count": 21
  },
  {
   "cell_type": "code",
   "outputs": [
    {
     "data": {
      "text/plain": "    번호 제정차수 공통표준용어명                                공통표준용어설명     공통표준용어영문약어명  \\\n61  62   4차  검색가능여부  책이나 컴퓨터에서 목적에 따라 필요한 자료들을 찾아낼 수 있는지 여부  SRCH_PSBLTY_YN   \n62  63   5차    검색일자          책이나 컴퓨터에서 목적에 따라 필요한 자료를 찾은 날짜        SRCH_YMD   \n\n   공통표준도메인명                                         허용값     저장 형식       표현 형식  \\\n61     여부C1                       Y : 여(예),\\nN : 부(아니요)    1자리 문자      Y or N   \n62    연월일C8  YYYY : 0001~9999,\\nMM : 01~12,\\nDD : 01~31  YYYYMMDD  YYYY-MM-DD   \n\n   행정표준코드명 소관기관명 용어 이음동의어 목록  \n61       -     -           -  \n62       -     -           -  ",
      "text/html": "<div>\n<style scoped>\n    .dataframe tbody tr th:only-of-type {\n        vertical-align: middle;\n    }\n\n    .dataframe tbody tr th {\n        vertical-align: top;\n    }\n\n    .dataframe thead th {\n        text-align: right;\n    }\n</style>\n<table border=\"1\" class=\"dataframe\">\n  <thead>\n    <tr style=\"text-align: right;\">\n      <th></th>\n      <th>번호</th>\n      <th>제정차수</th>\n      <th>공통표준용어명</th>\n      <th>공통표준용어설명</th>\n      <th>공통표준용어영문약어명</th>\n      <th>공통표준도메인명</th>\n      <th>허용값</th>\n      <th>저장 형식</th>\n      <th>표현 형식</th>\n      <th>행정표준코드명</th>\n      <th>소관기관명</th>\n      <th>용어 이음동의어 목록</th>\n    </tr>\n  </thead>\n  <tbody>\n    <tr>\n      <th>61</th>\n      <td>62</td>\n      <td>4차</td>\n      <td>검색가능여부</td>\n      <td>책이나 컴퓨터에서 목적에 따라 필요한 자료들을 찾아낼 수 있는지 여부</td>\n      <td>SRCH_PSBLTY_YN</td>\n      <td>여부C1</td>\n      <td>Y : 여(예),\\nN : 부(아니요)</td>\n      <td>1자리 문자</td>\n      <td>Y or N</td>\n      <td>-</td>\n      <td>-</td>\n      <td>-</td>\n    </tr>\n    <tr>\n      <th>62</th>\n      <td>63</td>\n      <td>5차</td>\n      <td>검색일자</td>\n      <td>책이나 컴퓨터에서 목적에 따라 필요한 자료를 찾은 날짜</td>\n      <td>SRCH_YMD</td>\n      <td>연월일C8</td>\n      <td>YYYY : 0001~9999,\\nMM : 01~12,\\nDD : 01~31</td>\n      <td>YYYYMMDD</td>\n      <td>YYYY-MM-DD</td>\n      <td>-</td>\n      <td>-</td>\n      <td>-</td>\n    </tr>\n  </tbody>\n</table>\n</div>"
     },
     "execution_count": 35,
     "metadata": {},
     "output_type": "execute_result"
    }
   ],
   "source": [
    "df = excelUtils.df_dict[0]\n",
    "df[df.iloc[:,2].str.contains(\"검색\")]"
   ],
   "metadata": {
    "collapsed": false,
    "ExecuteTime": {
     "end_time": "2024-03-15T07:59:10.349038700Z",
     "start_time": "2024-03-15T07:59:10.316814400Z"
    }
   },
   "id": "474e71c3735feb26",
   "execution_count": 35
  },
  {
   "cell_type": "code",
   "outputs": [],
   "source": [
    "class A:\n",
    "    k = 0\n",
    "    class B:\n",
    "        m = 1\n",
    "        "
   ],
   "metadata": {
    "collapsed": false,
    "ExecuteTime": {
     "end_time": "2024-03-18T00:27:56.472619800Z",
     "start_time": "2024-03-18T00:27:56.428680300Z"
    }
   },
   "id": "1524236e07dea898",
   "execution_count": 2
  },
  {
   "cell_type": "code",
   "outputs": [],
   "source": [
    "v = A()\n"
   ],
   "metadata": {
    "collapsed": false,
    "ExecuteTime": {
     "end_time": "2024-03-18T00:27:57.522654Z",
     "start_time": "2024-03-18T00:27:57.511911400Z"
    }
   },
   "id": "59dfed9a626c65c9",
   "execution_count": 3
  },
  {
   "cell_type": "code",
   "outputs": [],
   "source": [],
   "metadata": {
    "collapsed": false
   },
   "id": "7eef97f119c0049b"
  }
 ],
 "metadata": {
  "kernelspec": {
   "display_name": "Python 3",
   "language": "python",
   "name": "python3"
  },
  "language_info": {
   "codemirror_mode": {
    "name": "ipython",
    "version": 2
   },
   "file_extension": ".py",
   "mimetype": "text/x-python",
   "name": "python",
   "nbconvert_exporter": "python",
   "pygments_lexer": "ipython2",
   "version": "2.7.6"
  }
 },
 "nbformat": 4,
 "nbformat_minor": 5
}
